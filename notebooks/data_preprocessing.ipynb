{
 "cells": [
  {
   "cell_type": "markdown",
   "metadata": {},
   "source": [
    "## Import libraries"
   ]
  },
  {
   "cell_type": "code",
   "execution_count": 68,
   "metadata": {},
   "outputs": [],
   "source": [
    "import pandas as pd\n",
    "import numpy as np\n",
    "import matplotlib.pyplot as plt\n",
    "import plotly.graph_objects as go\n",
    "import seaborn as sns\n",
    "import warnings\n",
    "from sklearn.model_selection import train_test_split\n",
    "\n",
    "\n",
    "warnings.filterwarnings('ignore')\n",
    "pd.set_option('display.max_columns', None)"
   ]
  },
  {
   "cell_type": "markdown",
   "metadata": {},
   "source": [
    "## Data Preprocessing"
   ]
  },
  {
   "cell_type": "markdown",
   "metadata": {},
   "source": [
    "### Load data and Redo the Processing that done in EDA"
   ]
  },
  {
   "cell_type": "code",
   "execution_count": 2,
   "metadata": {},
   "outputs": [],
   "source": [
    "# Read the CSV file into a DataFrame(dfloan)\n",
    "dfloan = pd.read_csv('../data/loan_data_2007_2014.csv', low_memory=False)\n",
    "\n",
    "# Dropping unnecessary columns from the dataframe\n",
    "dfloan = dfloan.drop(columns=['id', 'member_id', 'Unnamed: 0'], axis=1)\n",
    "\n",
    "# Define a function to map loan status to 'Good Loan' or 'Bad Loan'\n",
    "def map_loan_status(status):\n",
    "    \"\"\"\n",
    "    Function to map loan status to 'Bad Loan' or 'Good Loan'.\n",
    "    \n",
    "    Parameters:\n",
    "    status (str): The loan status to be mapped.\n",
    "    \n",
    "    Returns:\n",
    "    str: 'Bad Loan' if the status is in the list of default statuses, 'Good Loan' otherwise.\n",
    "    \"\"\"\n",
    "    \n",
    "    # List of loan statuses that imply a default\n",
    "    default_statuses = [\n",
    "        'Charged Off', \n",
    "        'Late (31-120 days)', \n",
    "        'Late (16-30 days)',\n",
    "        'Default',\n",
    "        'Does not meet the credit policy. Status:Charged Off'\n",
    "    ]\n",
    "    \n",
    "    # Return 'Bad Loan' if the status is in the list of default statuses, 'Good Loan' otherwise\n",
    "    return 'Bad Loan' if status in default_statuses else 'Good Loan'\n",
    "\n",
    "# Apply the map_loan_status function to each status in the 'loan_status' column\n",
    "dfloan['loan_status'] = dfloan['loan_status'].apply(map_loan_status)\n",
    "\n",
    "# Convert the 'issue_d' column to datetime format with 'Oct-14' style dates\n",
    "dfloan['issue_d'] = pd.to_datetime(dfloan['issue_d'], format='%b-%y')\n",
    "\n",
    "# Extract the year from the datetime object ad store it in a new column 'years'\n",
    "dfloan['years'] = dfloan['issue_d'].dt.year\n",
    "\n",
    "\n",
    "# Define a list of state abbreviations that belong to the West region\n",
    "West = [\n",
    "    'CA',  # California\n",
    "    'NV',  # Nevada\n",
    "    'UT',  # Utah\n",
    "    'CO',  # Colorado\n",
    "    'WY',  # Wyoming\n",
    "    'MT',  # Montana\n",
    "    'ID',  # Idaho\n",
    "    'OR',  # Oregon\n",
    "    'WA',  # Washington\n",
    "    'AK',  # Alaska\n",
    "    'HI'   # Hawaii\n",
    "]\n",
    "\n",
    "# Define a list of state abbreviations that belong to the Southwest region\n",
    "Southwest = [\n",
    "    'AZ',  # Arizona\n",
    "    'NM',  # New Mexico\n",
    "    'TX',  # Texas\n",
    "    'OK'   # Oklahoma\n",
    "]\n",
    "\n",
    "# Define a list of state abbreviations that belong to the Midwest region\n",
    "Midwest = [\n",
    "    'ND',  # North Dakota\n",
    "    'MN',  # Minnesota\n",
    "    'SD',  # South Dakota\n",
    "    'NE',  # Nebraska\n",
    "    'KS',  # Kansas\n",
    "    'MO',  # Missouri\n",
    "    'IA',  # Iowa\n",
    "    'WI',  # Wisconsin\n",
    "    'IL',  # Illinois\n",
    "    'IN',  # Indiana\n",
    "    'OH',  # Ohio\n",
    "    'MI'   # Michigan\n",
    "]\n",
    "\n",
    "# Define a list of state abbreviations that belong to the Southeast region\n",
    "Southeast = [\n",
    "    'AR',  # Arkansas\n",
    "    'LA',  # Louisiana\n",
    "    'MS',  # Mississippi\n",
    "    'AL',  # Alabama\n",
    "    'GA',  # Georgia\n",
    "    'TN',  # Tennessee\n",
    "    'KY',  # Kentucky\n",
    "    'NC',  # North Carolina\n",
    "    'SC',  # South Carolina\n",
    "    'WV',  # West Virginia\n",
    "    'DC',  # District of Columbia\n",
    "    'VA',  # Virginia\n",
    "    'DE',  # Delaware\n",
    "    'FL'   # Florida\n",
    "]\n",
    "\n",
    "# Define a list of state abbreviations that belong to the Northeast region\n",
    "Northeast = [\n",
    "    'PA',  # Pennsylvania\n",
    "    'MD',  # Maryland\n",
    "    'NJ',  # New Jersey\n",
    "    'NY',  # New York\n",
    "    'CT',  # Connecticut\n",
    "    'RI',  # Rhode Island\n",
    "    'MA',  # Massachusetts\n",
    "    'NH',  # New Hampshire\n",
    "    'VT',  # Vermont\n",
    "    'ME'   # Maine\n",
    "]\n",
    "\n",
    "def us_region(state):\n",
    "    \"\"\"\n",
    "    Function to map US state to its corresponding region.\n",
    "\n",
    "    Parameters:\n",
    "    state (str): The US state abbreviation.\n",
    "\n",
    "    Returns:\n",
    "    str: The region where the state is located.\n",
    "    \"\"\"\n",
    "    # Check if the state is in the West region\n",
    "    if state in West:\n",
    "        return 'West'\n",
    "    # Check if the state is in the Southwest region\n",
    "    elif state in Southwest:\n",
    "        return 'Southwest'\n",
    "    # Check if the state is in the Midwest region\n",
    "    elif state in Midwest:\n",
    "        return 'Midwest'\n",
    "    # Check if the state is in the Southeast region\n",
    "    elif state in Southeast:\n",
    "        return 'Southeast'\n",
    "    # Check if the state is in the Northeast region\n",
    "    elif state in Northeast:\n",
    "        return 'Northeast'\n",
    "    # If the state is not in any of the defined regions, return 'Other'\n",
    "    else:\n",
    "        return 'Other'\n",
    "\n",
    "# Apply the function us_region to 'addr_state' column\n",
    "# This will create a new column 'region' in the dataframe dfloan\n",
    "dfloan['region'] = dfloan['addr_state'].apply(us_region)"
   ]
  },
  {
   "cell_type": "markdown",
   "metadata": {},
   "source": [
    "### Drop Columns with High Missing Values"
   ]
  },
  {
   "cell_type": "code",
   "execution_count": 6,
   "metadata": {},
   "outputs": [],
   "source": [
    "def dropnan(data, threshold):\n",
    "    \"\"\"\n",
    "    Function to drop columns with missing values above a certain threshold.\n",
    "    \n",
    "    Parameters:\n",
    "    data (DataFrame): The data to be cleaned.\n",
    "    threshold (float): The threshold proportion of missing values, columns above threshold which will be dropped.\n",
    "    \n",
    "    Returns:\n",
    "    DataFrame: The cleaned data with columns dropped based on the threshold.\n",
    "\n",
    "    Examples:\n",
    "    >>> dropnan(data, 0.5)\n",
    "    \"\"\"\n",
    "\n",
    "    # Iterate over each column in the DataFrame\n",
    "    for column in data.columns:\n",
    "        \n",
    "        # Calculate the proportion of missing values in the current column\n",
    "        missing_values = data[column].isnull().sum() / len(data)\n",
    "\n",
    "        # if the proportion of missing values is greatwer than the threshold\n",
    "        if missing_values > threshold:\n",
    "            \n",
    "            # Drop the current column from the DataFrame\n",
    "            data = data.drop(columns=column, axis=1)\n",
    "    \n",
    "    # Return the cleaned DataFrame\n",
    "    return data"
   ]
  },
  {
   "cell_type": "code",
   "execution_count": 66,
   "metadata": {},
   "outputs": [
    {
     "name": "stdout",
     "output_type": "stream",
     "text": [
      "(466285, 74)\n",
      "(466285, 52)\n"
     ]
    }
   ],
   "source": [
    "# Drop the columns with missing values above the threshold\n",
    "dfloan_cleaned = dropnan(dfloan, 0.4)\n",
    "\n",
    "print(dfloan.shape)\n",
    "print(dfloan_cleaned.shape)"
   ]
  },
  {
   "cell_type": "code",
   "execution_count": 67,
   "metadata": {},
   "outputs": [],
   "source": [
    "# potential_bin = ['delinq_2yrs', ]"
   ]
  },
  {
   "cell_type": "markdown",
   "metadata": {},
   "source": [
    "### Drop Uneccessary Columns"
   ]
  },
  {
   "cell_type": "code",
   "execution_count": 35,
   "metadata": {},
   "outputs": [],
   "source": [
    "not_necessary_col = ['sub_grade', 'emp_title', 'issue_d', 'pymnt_plan', 'url', 'zip_code', 'title', 'addr_state',\n",
    "                     'earliest_cr_line', 'inq_last_6mths', 'open_acc', 'pub_rec', 'total_acc', 'initial_list_status', 'out_prncp_inv',\n",
    "                     'total_pymnt_inv', 'total_rec_late_fee', 'recoveries', 'collection_recovery_fee', 'last_pymnt_d', 'last_credit_pull_d',\n",
    "                     'collections_12_mths_ex_med', 'application_type', 'policy_code', 'acc_now_delinq']\n",
    "dfloan_cleaned1 = dfloan_cleaned.drop(columns=not_necessary_col, axis=1)"
   ]
  },
  {
   "cell_type": "code",
   "execution_count": 59,
   "metadata": {},
   "outputs": [],
   "source": [
    "def plot_missing_value(data):\n",
    "    # Calculate the percentage of missing values in each column\n",
    "    missing = (data.isnull().sum() / len(data)) * 100\n",
    "    \n",
    "    # Filter out the columns that have no missing values\n",
    "    missing = missing[missing>0]\n",
    "\n",
    "    # Create a DataFrame from the missing data\n",
    "    missing_data = pd.DataFrame({'Column': missing.index, \n",
    "                                 'Missing%': np.round(missing.values, 2)\n",
    "    })\n",
    "\n",
    "    # Sort the DataFrame by the percentage of missing values in descending order\n",
    "    missing_data = missing_data.sort_values('Missing%', ascending=False)\n",
    "\n",
    "    # Create a bar plot of the missing data\n",
    "    plt.figure(figsize=(15, 6))\n",
    "    ax = sns.barplot(x='Missing%', y='Column', data=missing_data, palette='viridis')\n",
    "\n",
    "    # Add the percentage of missing data as text on the bars\n",
    "    for i, v in enumerate(missing_data['Missing%']):\n",
    "        ax.text(v + 0.5, i + .4, str(v) + '%', color='red')\n",
    "\n",
    "    # Set the labels and title of the plot\n",
    "    ax.set_xlabel('Missing Percentage')\n",
    "    ax.set_title('Percentage Missing Data for each columns')\n"
   ]
  },
  {
   "cell_type": "code",
   "execution_count": 61,
   "metadata": {},
   "outputs": [
    {
     "data": {
      "image/png": "[encoded data removed]",
      "text/plain": [
       "<Figure size 1500x600 with 1 Axes>"
      ]
     },
     "metadata": {},
     "output_type": "display_data"
    }
   ],
   "source": [
    "plot_missing_value(dfloan_cleaned1)"
   ]
  },
  {
   "cell_type": "markdown",
   "metadata": {},
   "source": [
    "### Train Test Split"
   ]
  },
  {
   "cell_type": "code",
   "execution_count": 72,
   "metadata": {},
   "outputs": [
    {
     "name": "stdout",
     "output_type": "stream",
     "text": [
      "X train shape: (373028, 26)\n",
      "y train shape:(373028,)\n",
      "\n",
      "X test shape: (93257, 26)\n",
      "y_test shape: (93257,)\n"
     ]
    }
   ],
   "source": [
    "X = dfloan_cleaned1.drop(columns=['loan_status'])\n",
    "y = dfloan_cleaned1['loan_status']\n",
    "\n",
    "X_train, X_test, y_train, y_test = train_test_split(X, y, test_size=0.2, random_state=1103)\n",
    "\n",
    "print(f'X train shape: {X_train.shape}')\n",
    "print(f'y train shape:{y_train.shape}')\n",
    "\n",
    "print(f'\\nX test shape: {X_test.shape}')\n",
    "print(f'y_test shape: {y_test.shape}')"
   ]
  },
  {
   "cell_type": "markdown",
   "metadata": {},
   "source": [
    "### Impute rest of missing values"
   ]
  },
  {
   "cell_type": "code",
   "execution_count": 73,
   "metadata": {},
   "outputs": [],
   "source": [
    "# define funtion to fill numerical missing values with median and categorical missing values with mode\n",
    "def fillnan(data):\n",
    "    \"\"\"\n",
    "    Function to fill missing values in a DataFrame. Numeric columns are filled with the median of the column,\n",
    "    while categorical/non-numeric columns are filled with the mode.\n",
    "\n",
    "    Parameters:\n",
    "    data (DataFrame): The DataFrame to be cleaned.\n",
    "\n",
    "    Returns:\n",
    "    DataFrame: The cleaned DataFrame with missing values filled.\n",
    "\n",
    "    Examples:\n",
    "    >>> fillnan(data)\n",
    "\n",
    "    \"\"\"\n",
    "\n",
    "    # Iterate over each column in the DataFrame\n",
    "    for column in data.columns:\n",
    "\n",
    "        # Check if the current column is numeric\n",
    "        if data[column].dtype in ['int64', 'float64']:\n",
    "            # Fill missing values with the median of the column\n",
    "            data[column] = data[column].fillna(data[column].median())\n",
    "        else:\n",
    "            # Fill missing values with the mode of the column\n",
    "            data[column] = data[column].fillna(data[column].mode()[0])\n",
    "g\n",
    "    # Return the cleaned DataFrame\n",
    "    return data\n",
    "\n",
    "# Fill missing values in the cleaned DataFrame\n",
    "X_train_clean = fillnan(X_train)"
   ]
  },
  {
   "cell_type": "markdown",
   "metadata": {},
   "source": [
    "Are we going to do WoE Transform first then do feature selection"
   ]
  },
  {
   "cell_type": "code",
   "execution_count": null,
   "metadata": {},
   "outputs": [],
   "source": []
  },
  {
   "cell_type": "code",
   "execution_count": null,
   "metadata": {},
   "outputs": [],
   "source": [
    "# X_test_clean = fillnan(X_test)"
   ]
  }
 ],
 "metadata": {
  "kernelspec": {
   "display_name": "Python 3",
   "language": "python",
   "name": "python3"
  },
  "language_info": {
   "codemirror_mode": {
    "name": "ipython",
    "version": 3
   },
   "file_extension": ".py",
   "mimetype": "text/x-python",
   "name": "python",
   "nbconvert_exporter": "python",
   "pygments_lexer": "ipython3",
   "version": "3.11.8"
  }
 },
 "nbformat": 4,
 "nbformat_minor": 2
}
